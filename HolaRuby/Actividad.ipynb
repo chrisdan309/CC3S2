{
 "cells": [
  {
   "cell_type": "markdown",
   "id": "61fe7de6",
   "metadata": {},
   "source": [
    "## Introducción a Ruby \n",
    "\n",
    "Esta actividad te brinda práctica básica en los fundamentos de Ruby y a realizar pruebas individuales o conjuntos de pruebas utilizando la herramienta [Rspec](https://rspec.info/)\n",
    "\n",
    "Utiliza la documentación de Ruby en https://ruby-doc.org/.\n",
    "\n",
    "El repositorio de tus respuestas llamada `Fundamentos-Ruby` para esta tarea debe seguir una convención de Ruby bastante estándar para bases de código: los archivos de código se almacenan en `lib/` y los archivos de prueba se almacenan en `spec/`. (Usamos el framework de pruebas unitarias RSpec.) \n",
    "\n",
    "Se ha colocado el 'el código de inicio' en `lib/ruby_intro.rb`. Cuando haya terminado, puedes enviar este único archivo como tus respuestas.\n",
    "\n",
    "Sin embargo para que pueda puntuar en tu calificación, debes probar cada una de las  partes por separado. Los archivos `spec/parte[123]_spec.rb` contienen pruebas RSpec para cada una de las tres partes. \n",
    "\n",
    "Por ejemplo, para probar tus respuestas de la primera parte, debes usar `rspec spec/parte1_spec.rb`. `rspec` sin argumentos ejecuta las pruebas en todos los archivos `spec/*_spec.rb`. Revisa la primera actividad del curso.\n",
    "\n",
    "Los números de línea en el informe de errores de RSpec te brindarán orientación sobre qué pruebas fallaron. (Puedes consultar la documentación de RSpec para ver cómo se puede utilizar el archivo `.rspec` para personalizar el formato de salida).\n",
    "\n",
    "Si estás trabajando en una computadora local, continúe con los siguientes pasos.\n",
    "\n",
    "- Asegúrate de que Ruby 2.6.6+  esté instalado.\n",
    "- Para asegurarte de tener instalado `rspec gem`, necesitas el `bundle` y luego puedes ejecutar la instalación del `bundle` de esta manera:\n",
    "\n",
    " ```\n",
    " $ gem install bundler\n",
    " $ cd nombre_asignacion\n",
    " $ bundle\n",
    " ```\n",
    "Cuando lo anterior se complete correctamente, tendrás `RSpec` instalado y podrás ejecutar `rspec` desde la línea de comando para probar tu código."
   ]
  },
  {
   "cell_type": "markdown",
   "id": "cbb6b1f1",
   "metadata": {},
   "source": [
    "### Parte 1: Arreglos, hashes y enumerables\n",
    "\n",
    "Consulta la documentación de Ruby 3.x +  sobre `Array`, `Hash` y `Enumerable`, ya que podrían ser de gran ayuda con estos ejercicios. Aunque Ruby admite `for` y `while`, considera usar la sintaxis de bloque con cada una para un uso más idiomático de Ruby.\n",
    "\n",
    "\n",
    "1. Define un método `sum(array)` que tome un arreglo de números enteros como argumento y devuelva la suma de sus elementos. Para una matriz vacía, debería devolver cero. Ejecuta las pruebas asociadas a través de: \n"
   ]
  },
  {
   "cell_type": "code",
   "execution_count": null,
   "id": "539587b5",
   "metadata": {},
   "outputs": [],
   "source": [
    "$rspec -e '#sum ' spec/parte1_spec.rb`"
   ]
  },
  {
   "cell_type": "markdown",
   "id": "6faac460",
   "metadata": {},
   "source": [
    "2. Define un método `max_2_sum(array)` que tome un arreglo de números enteros como argumento y devuelva la suma de sus dos elementos más grandes. Para un arreglo vacío, debería devolver cero. Para un arreglo con solo un elemento, debería devolver ese elemento (considera si los dos elementos más grandes también tienen el mismo valor). Ejecuta las pruebas asociadas a través de:  \n"
   ]
  },
  {
   "cell_type": "code",
   "execution_count": null,
   "id": "45f1db2a",
   "metadata": {},
   "outputs": [],
   "source": [
    "$rspec -e '#max_2_sum' spec/parte1_spec.rb"
   ]
  },
  {
   "cell_type": "markdown",
   "id": "e0d665b9",
   "metadata": {},
   "source": [
    "3. Define un método `sum_to_n?(array, n)` que toma un arreglo de números enteros y un número entero adicional `n`, como argumentos y devuelva verdadero si dos elementos cualesquiera en el arreglo de enteros suman `n`. `sum_to_n?([], n)` debería devolver false para cualquier valor de `n`, por definición. Ejecuta las pruebas asociadas a través de:"
   ]
  },
  {
   "cell_type": "code",
   "execution_count": null,
   "id": "db86473e",
   "metadata": {},
   "outputs": [],
   "source": [
    "$ rspec -e '#sum_to_n' spec/parte1_spec.rb\n"
   ]
  },
  {
   "cell_type": "markdown",
   "id": "c06e7f74",
   "metadata": {},
   "source": [
    "Puedes verificar tus respuestas de todo lo anterior ejecutando:"
   ]
  },
  {
   "cell_type": "code",
   "execution_count": null,
   "id": "98b7250d",
   "metadata": {},
   "outputs": [],
   "source": [
    "$rspec spec/parte1_spec.rb."
   ]
  },
  {
   "cell_type": "markdown",
   "id": "b454a47a",
   "metadata": {},
   "source": [
    "### Parte 2: Cadenas y expresiones regulares\n",
    "\n",
    "Consulta la documentación sobre `String` y `Regexp`, ya que podrían ser de gran ayuda con estos ejercicios. \n",
    "\n",
    "Para referencias futuras también, consulta https://rubular.com/ para consultas relacionadas con expresiones regulares.\n",
    "\n",
    "1. Define un método `hello(name)` que tome una cadena que represente un nombre y devuelva la cadena \"Hello\", concatenada con el nombre. Ejecuta las pruebas asociadas a través de: "
   ]
  },
  {
   "cell_type": "code",
   "execution_count": null,
   "id": "45edd901",
   "metadata": {},
   "outputs": [],
   "source": [
    "$rspec -e '#hello' spec/parte2_spec.rb "
   ]
  },
  {
   "cell_type": "markdown",
   "id": "b0b3f3dc",
   "metadata": {},
   "source": [
    "2. Define un método `start_with_consonant?(s)` que tome una cadena y devuelva verdadero si comienza con una consonante y falso en caso contrario. Asegúrate de que funcione tanto para mayúsculas como para minúsculas y para otras letras. Ejecuta las pruebas asociadas a través de:"
   ]
  },
  {
   "cell_type": "code",
   "execution_count": null,
   "id": "31153557",
   "metadata": {},
   "outputs": [],
   "source": [
    "$rspec -e '#starts_with_consonant?' spec/parte2_spec.rb\n"
   ]
  },
  {
   "cell_type": "markdown",
   "id": "380b3085",
   "metadata": {},
   "source": [
    "3. Define un método `binary_multiple_de_4?(s)` que tome una cadena y devuelva verdadero si la cadena representa un número binario que es múltiplo de 4, como '1000'. Asegúrate de que devuelva falso si la cadena no es un número binario válido. Ejecuta las pruebas asociadas a través de:"
   ]
  },
  {
   "cell_type": "code",
   "execution_count": null,
   "id": "0479bd55",
   "metadata": {},
   "outputs": [],
   "source": [
    " $rspec -e '#binary_multiple_of_4?' spec/parte2_spec.rb"
   ]
  },
  {
   "cell_type": "markdown",
   "id": "1bf1b9e8",
   "metadata": {},
   "source": [
    "Puedes verificar tu progreso en todo lo anterior ejecutando:"
   ]
  },
  {
   "cell_type": "code",
   "execution_count": null,
   "id": "2f969627",
   "metadata": {},
   "outputs": [],
   "source": [
    "$rspec spec/parte2_spec.rb."
   ]
  },
  {
   "cell_type": "markdown",
   "id": "4bbe123e",
   "metadata": {},
   "source": [
    "### Parte 3: Conceptos básicos de  orientación a objetos\n",
    "\n",
    "Define una clase `BookInStock` que representa un libro con un número ISBN, isbn y el precio del libro como número de punto flotante, precio, como atributos. \n",
    "\n",
    "Ejecuta las pruebas asociadas a través de:\n"
   ]
  },
  {
   "cell_type": "code",
   "execution_count": null,
   "id": "1e9a5298",
   "metadata": {},
   "outputs": [],
   "source": [
    "$rspec -e 'getters and setters' spec/parte3_spec.rb "
   ]
  },
  {
   "cell_type": "markdown",
   "id": "b37e5764",
   "metadata": {},
   "source": [
    "El constructor debe aceptar el número ISBN (una cadena, ya que en la vida real los números ISBN pueden comenzar con cero e incluir guiones) como primer argumento y el precio como segundo argumento y debe generar `ArgumentError` (una de los tipos de excepciones integradas de Ruby) si el número ISBN es la cadena vacía o si el precio es menor o igual a cero. Incluye los getters y setters adecuados para estos atributos. Ejecuta las pruebas asociadas a través de: "
   ]
  },
  {
   "cell_type": "code",
   "execution_count": null,
   "id": "8033fbfb",
   "metadata": {},
   "outputs": [],
   "source": [
    "$rspec -e 'constructor' spec/part3_spec.rb"
   ]
  },
  {
   "cell_type": "markdown",
   "id": "93d56d27",
   "metadata": {},
   "source": [
    "Incluye un método `price_as_string` que devuelva el precio del libro formateado con un signo de dólar inicial y dos decimales, es decir, un precio de 20 debe tener el formato `$20.00` y un precio de 33.8 debe tener el formato `$33.80`. Consulta los métodos de cadenas formateadas en Ruby. \n",
    "\n",
    "Ejecuta las pruebas asociadas a través de: "
   ]
  },
  {
   "cell_type": "code",
   "execution_count": null,
   "id": "408299e9",
   "metadata": {},
   "outputs": [],
   "source": [
    "$rspec -e '#price_as_string' spec/parte3_spec.rb"
   ]
  },
  {
   "cell_type": "markdown",
   "id": "b1b97a29",
   "metadata": {},
   "source": [
    "Puedes comprobar tu progreso en todo lo anterior ejecutando:"
   ]
  },
  {
   "cell_type": "code",
   "execution_count": null,
   "id": "c5e6a97d",
   "metadata": {},
   "outputs": [],
   "source": [
    "$rspec spec/parte3_spec.rb."
   ]
  },
  {
   "cell_type": "markdown",
   "id": "e73000d7",
   "metadata": {},
   "source": [
    "### Algo de TDD\n",
    "\n",
    "IntentA configurarlo con un framework de prueba automatizado como [guard](https://github.com/guard/guard) o [autotest](https://rubygems.org/gems/autotest/versions/5.0.0). Se pueden configurar Guard o AutoTest para que ejecuten todas las pruebas en `spec/`, pero cada vez que editas y guardas tus archivo de código, las pruebas se vuelven a ejecutar automáticamente, por lo que no tienes que ejecutarlas manualmente. \n",
    "\n",
    "Esta es la parte de \"ver fallar la prueba\" del TDD o proceso de desarrollo basado en pruebas: escribir las pruebas antes de escribir el código, observar cómo falla la prueba, completar el código,guardar el archivo de código y observar cómo pasa la prueba!."
   ]
  },
  {
   "cell_type": "code",
   "execution_count": null,
   "id": "4fcbb856",
   "metadata": {},
   "outputs": [],
   "source": [
    "bundle exec rspec"
   ]
  }
 ],
 "metadata": {
  "kernelspec": {
   "display_name": "Ruby 3.0.2",
   "language": "ruby",
   "name": "ruby"
  },
  "language_info": {
   "file_extension": ".rb",
   "mimetype": "application/x-ruby",
   "name": "ruby",
   "version": "3.0.2"
  }
 },
 "nbformat": 4,
 "nbformat_minor": 5
}
